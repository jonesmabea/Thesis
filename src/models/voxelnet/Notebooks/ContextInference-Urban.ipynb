{
 "cells": [
  {
   "cell_type": "code",
   "execution_count": 3,
   "metadata": {},
   "outputs": [
    {
     "name": "stderr",
     "output_type": "stream",
     "text": [
      "/mnt/storage/home/ja17618/.conda/envs/vox/lib/python3.6/importlib/_bootstrap.py:219: RuntimeWarning: numpy.dtype size changed, may indicate binary incompatibility. Expected 96, got 88\n",
      "  return f(*args, **kwds)\n",
      "/mnt/storage/home/ja17618/.conda/envs/vox/lib/python3.6/importlib/_bootstrap.py:219: RuntimeWarning: numpy.dtype size changed, may indicate binary incompatibility. Expected 96, got 88\n",
      "  return f(*args, **kwds)\n"
     ]
    }
   ],
   "source": [
    "#!/usr/bin/env python\n",
    "# -*- coding:UTF-8 -*-\n",
    "\n",
    "# from comet_ml import Experiment\n",
    "import glob\n",
    "import argparse\n",
    "import os\n",
    "import time\n",
    "import tensorflow as tf\n",
    "from model import RPN3D\n",
    "from config import cfg\n",
    "from utils import *\n",
    "from utils.kitti_loader import iterate_data, sample_test_data,GPULogging\n",
    "import subprocess\n"
   ]
  },
  {
   "cell_type": "code",
   "execution_count": 4,
   "metadata": {},
   "outputs": [],
   "source": [
    "ctx = 'urban' \n",
    "tag = 'default_pedestrian'\n",
    "clss=cfg.DETECT_OBJ\n",
    "output_path = tag+clss+ctx\n",
    "\n",
    "exp = 'urban'\n",
    "bs=1\n",
    "vis=False\n",
    "GPU_AVAILABLE='0'\n",
    "GPU_USE_COUNT=1"
   ]
  },
  {
   "cell_type": "code",
   "execution_count": null,
   "metadata": {},
   "outputs": [],
   "source": [
    "gpu_log= GPULogging(name=f'vox{ctx}-{clss}',device_id=GPU_AVAILABLE)\n"
   ]
  },
  {
   "cell_type": "code",
   "execution_count": null,
   "metadata": {},
   "outputs": [],
   "source": [
    "!nvidia-smi"
   ]
  },
  {
   "cell_type": "code",
   "execution_count": null,
   "metadata": {},
   "outputs": [],
   "source": [
    "\n",
    "path=''\n",
    "dataset_dir = cfg.DATA_DIR\n",
    "val_dir = os.path.join(cfg.CONTEXT_DIR, ctx)\n",
    "save_model_dir = os.path.join('./save_model', tag)\n",
    "total_inference_time = []\n",
    "# experiment = Experiment(api_key=\"xXtJguCo8yFdU7dpjEpo6YbHw\",project_name=exp)\n",
    "# create output folder\n",
    "os.makedirs(output_path, exist_ok=True)\n",
    "os.makedirs(os.path.join(output_path, 'data'), exist_ok=True)\n",
    "if vis:\n",
    "    os.makedirs(os.path.join(output_path, 'vis'), exist_ok=True)\n",
    "gpu_log.start()\n",
    "with tf.Graph().as_default():\n",
    "    gpu_options = tf.GPUOptions(per_process_gpu_memory_fraction=cfg.GPU_MEMORY_FRACTION,\n",
    "                        visible_device_list=GPU_AVAILABLE,\n",
    "                        allow_growth=True)\n",
    "\n",
    "    config = tf.ConfigProto(\n",
    "        gpu_options=gpu_options,\n",
    "        device_count={\n",
    "            \"GPU\": GPU_USE_COUNT,\n",
    "        },\n",
    "        allow_soft_placement=True,\n",
    "        log_device_placement=False\n",
    "    )\n",
    "\n",
    "    with tf.Session(config=config) as sess:\n",
    "        model = RPN3D(\n",
    "            cls=cfg.DETECT_OBJ,\n",
    "            single_batch_size=bs,\n",
    "            avail_gpus=GPU_AVAILABLE\n",
    "        )\n",
    "        if tf.train.get_checkpoint_state(save_model_dir):\n",
    "            print(\"Reading model parameters from %s\" % save_model_dir)\n",
    "            model.saver.restore(\n",
    "                sess, tf.train.latest_checkpoint(save_model_dir))\n",
    "        counter=0\n",
    "#         with experiment.test():\n",
    "        for batch in iterate_data(val_dir, shuffle=False, aug=False, is_testset=False, batch_size=bs * GPU_USE_COUNT, multi_gpu_sum=GPU_USE_COUNT):\n",
    "#             experiment.log_metric(\"counter\",counter)\n",
    "\n",
    "            if vis:\n",
    "                tags, results, front_images, bird_views, heatmaps = model.predict_step(sess, batch, summary=False, vis=True)\n",
    "            else:\n",
    "                inference_start_time=time.time()\n",
    "                tags, results = model.predict_step(sess, batch, summary=False, vis=False)\n",
    "                inference_time = time.time()-inference_start_time\n",
    "                total_inference_time.append(inference_time)\n",
    "            # ret: A, B\n",
    "            # A: (N) tag\n",
    "            # B: (N, N') (class, x, y, z, h, w, l, rz, score)\n",
    "            for tag, result in zip(tags, results):\n",
    "                of_path = os.path.join(output_path, 'data', tag + '.txt')\n",
    "                with open(of_path, 'w+') as f:\n",
    "                    labels = box3d_to_label([result[:, 1:8]], [result[:, 0]], [result[:, -1]], coordinate='lidar')[0]\n",
    "                    for line in labels:\n",
    "                        f.write(line)\n",
    "#                     print('write out {} objects to {}'.format(len(labels), tag))\n",
    "            # dump visualizations\n",
    "            if vis:\n",
    "                for tag, front_image, bird_view, heatmap in zip(tags, front_images, bird_views, heatmaps):\n",
    "                    front_img_path = os.path.join( output_path, 'vis', tag + '_front.jpg'  )\n",
    "                    bird_view_path = os.path.join( output_path, 'vis', tag + '_bv.jpg'  )\n",
    "                    heatmap_path = os.path.join( output_path, 'vis', tag + '_heatmap.jpg'  )\n",
    "                    cv2.imwrite( front_img_path, front_image )\n",
    "                    cv2.imwrite( bird_view_path, bird_view )\n",
    "                    cv2.imwrite( heatmap_path, heatmap )\n",
    "            counter +=1\n",
    "            \n",
    "gpu_log.stop()\n",
    "# process.kill()\n",
    "# log.flush()\n",
    "# log.close()"
   ]
  },
  {
   "cell_type": "code",
   "execution_count": null,
   "metadata": {},
   "outputs": [],
   "source": [
    "print(counter)"
   ]
  },
  {
   "cell_type": "code",
   "execution_count": null,
   "metadata": {},
   "outputs": [],
   "source": [
    "mean_inference = np.mean(total_inference_time)\n",
    "min_inference = np.min(total_inference_time)\n",
    "max_inference =np.max(total_inference_time)\n",
    "var_inference = np.var(total_inference_time)\n",
    "\n",
    "print('Min: %fs Max: %fs Mean: %fs Var: %fs ' %( min_inference,max_inference,mean_inference,var_inference))"
   ]
  },
  {
   "cell_type": "code",
   "execution_count": 5,
   "metadata": {},
   "outputs": [
    {
     "ename": "AttributeError",
     "evalue": "'str' object has no attribute 'decode'",
     "output_type": "error",
     "traceback": [
      "\u001b[0;31m---------------------------------------------------------------------------\u001b[0m",
      "\u001b[0;31mAttributeError\u001b[0m                            Traceback (most recent call last)",
      "\u001b[0;32m<ipython-input-5-7bef27d73eb2>\u001b[0m in \u001b[0;36m<module>\u001b[0;34m()\u001b[0m\n\u001b[1;32m      5\u001b[0m \u001b[0;31m# cmd_3 = os.path.join( output_path, 'log' )\u001b[0m\u001b[0;34m\u001b[0m\u001b[0;34m\u001b[0m\u001b[0m\n\u001b[1;32m      6\u001b[0m \u001b[0mvar\u001b[0m\u001b[0;34m=\u001b[0m \u001b[0mos\u001b[0m\u001b[0;34m.\u001b[0m\u001b[0mpopen\u001b[0m\u001b[0;34m(\u001b[0m\u001b[0;34m\" \"\u001b[0m\u001b[0;34m.\u001b[0m\u001b[0mjoin\u001b[0m\u001b[0;34m(\u001b[0m \u001b[0;34m[\u001b[0m\u001b[0mcmd_1\u001b[0m\u001b[0;34m,\u001b[0m \u001b[0mcmd_2\u001b[0m\u001b[0;34m,\u001b[0m\u001b[0mcmd_3\u001b[0m\u001b[0;34m]\u001b[0m \u001b[0;34m)\u001b[0m\u001b[0;34m)\u001b[0m\u001b[0;34m.\u001b[0m\u001b[0mread\u001b[0m\u001b[0;34m(\u001b[0m\u001b[0;34m)\u001b[0m\u001b[0;34m\u001b[0m\u001b[0m\n\u001b[0;32m----> 7\u001b[0;31m \u001b[0mprint\u001b[0m\u001b[0;34m(\u001b[0m\u001b[0mvar\u001b[0m\u001b[0;34m.\u001b[0m\u001b[0mdecode\u001b[0m\u001b[0;34m(\u001b[0m\u001b[0;34m)\u001b[0m\u001b[0;34m)\u001b[0m\u001b[0;34m\u001b[0m\u001b[0m\n\u001b[0m",
      "\u001b[0;31mAttributeError\u001b[0m: 'str' object has no attribute 'decode'"
     ]
    }
   ],
   "source": [
    "# execute evaluation code\n",
    "cmd_1 = \"./kitti_eval/evaluate_object_3d_offline\"\n",
    "cmd_2 = f\"/mnt/storage/home/ja17618/scratch/DATA_DIR/context/{ctx}/label_2/\"\n",
    "cmd_3 = \"/mnt/storage/home/ja17618/scratch/voxelnet/\"+output_path\n",
    "# cmd_3 = os.path.join( output_path, 'log' )\n",
    "var= os.popen(\" \".join( [cmd_1, cmd_2,cmd_3] )).read()\n"
   ]
  },
  {
   "cell_type": "code",
   "execution_count": 11,
   "metadata": {},
   "outputs": [
    {
     "data": {
      "text/plain": [
       "\"Thank you for participating in our evaluation!\\nLoading detections...\\nnumber of files for evaluation: 1029\\n  done.\\nstart to eval image 2D bounding boxes... \\nsave /mnt/storage/home/ja17618/scratch/voxelnet/default_pedestrianPedestrianurban/plot/pedestrian_detection.txt\\npedestrian_detection AP: 72.129387 65.245384 65.508232\\n2D bounding boxes detection saved ... \\n  start to compute aos ... \\nsave /mnt/storage/home/ja17618/scratch/voxelnet/default_pedestrianPedestrianurban/plot/pedestrian_orientation.txt\\npedestrian_orientation AP: 35.719177 32.809044 32.804714\\n2D bounding boxes aos saved ... \\nstart to eval bird's eye view bounding boxes... \\nsave /mnt/storage/home/ja17618/scratch/voxelnet/default_pedestrianPedestrianurban/plot/pedestrian_detection_ground.txt\\npedestrian_detection_ground AP: 74.766678 73.944069 74.138588\\nstart to eval 3D bounding boxes... \\nsave /mnt/storage/home/ja17618/scratch/voxelnet/default_pedestrianPedestrianurban/plot/pedestrian_detection_3d.txt\\npedestrian_detection_3d AP: 71.177628 64.247559 64.181450\\nYour evaluation results are available at:\\n/mnt/storage/home/ja17618/scratch/voxelnet/default_pedestrianPedestrianurban\\n\""
      ]
     },
     "execution_count": 11,
     "metadata": {},
     "output_type": "execute_result"
    }
   ],
   "source": [
    "var.encode('utf-8').decode('unicode_escape')"
   ]
  },
  {
   "cell_type": "code",
   "execution_count": null,
   "metadata": {},
   "outputs": [],
   "source": []
  }
 ],
 "metadata": {
  "kernelspec": {
   "display_name": "Python 3",
   "language": "python",
   "name": "python3"
  },
  "language_info": {
   "codemirror_mode": {
    "name": "ipython",
    "version": 3
   },
   "file_extension": ".py",
   "mimetype": "text/x-python",
   "name": "python",
   "nbconvert_exporter": "python",
   "pygments_lexer": "ipython3",
   "version": "3.6.6"
  }
 },
 "nbformat": 4,
 "nbformat_minor": 2
}
