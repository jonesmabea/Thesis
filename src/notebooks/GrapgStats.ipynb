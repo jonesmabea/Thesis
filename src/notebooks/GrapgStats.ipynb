{
 "cells": [
  {
   "cell_type": "markdown",
   "metadata": {},
   "source": [
    "# Graph Operations Calculator"
   ]
  },
  {
   "cell_type": "code",
   "execution_count": 3,
   "metadata": {},
   "outputs": [
    {
     "name": "stderr",
     "output_type": "stream",
     "text": [
      "/mnt/storage/home/ja17618/.conda/envs/vox/lib/python3.6/importlib/_bootstrap.py:219: RuntimeWarning: numpy.dtype size changed, may indicate binary incompatibility. Expected 96, got 88\n",
      "  return f(*args, **kwds)\n",
      "/mnt/storage/home/ja17618/.conda/envs/vox/lib/python3.6/importlib/_bootstrap.py:219: RuntimeWarning: numpy.dtype size changed, may indicate binary incompatibility. Expected 96, got 88\n",
      "  return f(*args, **kwds)\n"
     ]
    },
    {
     "data": {
      "text/plain": [
       "['__builtins__',\n",
       " '__cached__',\n",
       " '__doc__',\n",
       " '__file__',\n",
       " '__loader__',\n",
       " '__name__',\n",
       " '__package__',\n",
       " '__path__',\n",
       " '__spec__',\n",
       " 'batching',\n",
       " 'bayesflow',\n",
       " 'checkpoint',\n",
       " 'cloud',\n",
       " 'cluster_resolver',\n",
       " 'coder',\n",
       " 'compiler',\n",
       " 'constrained_optimization',\n",
       " 'copy_graph',\n",
       " 'crf',\n",
       " 'cudnn_rnn',\n",
       " 'data',\n",
       " 'decision_trees',\n",
       " 'deprecated',\n",
       " 'distribute',\n",
       " 'distributions',\n",
       " 'eager',\n",
       " 'estimator',\n",
       " 'factorization',\n",
       " 'feature_column',\n",
       " 'ffmpeg',\n",
       " 'framework',\n",
       " 'gan',\n",
       " 'graph_editor',\n",
       " 'grid_rnn',\n",
       " 'image',\n",
       " 'input_pipeline',\n",
       " 'integrate',\n",
       " 'keras',\n",
       " 'kernel_methods',\n",
       " 'kfac',\n",
       " 'labeled_tensor',\n",
       " 'layers',\n",
       " 'learn',\n",
       " 'legacy_seq2seq',\n",
       " 'linalg',\n",
       " 'linear_optimizer',\n",
       " 'lite',\n",
       " 'lookup',\n",
       " 'losses',\n",
       " 'memory_stats',\n",
       " 'meta_graph_transform',\n",
       " 'metrics',\n",
       " 'mixed_precision',\n",
       " 'model_pruning',\n",
       " 'nccl',\n",
       " 'nn',\n",
       " 'opt',\n",
       " 'optimizer_v2',\n",
       " 'periodic_resample',\n",
       " 'predictor',\n",
       " 'proto',\n",
       " 'quantization',\n",
       " 'quantize',\n",
       " 'receptive_field',\n",
       " 'recurrent',\n",
       " 'reduce_slice_ops',\n",
       " 'remote_fused_graph',\n",
       " 'resampler',\n",
       " 'rnn',\n",
       " 'rpc',\n",
       " 'saved_model',\n",
       " 'seq2seq',\n",
       " 'session_bundle',\n",
       " 'signal',\n",
       " 'slim',\n",
       " 'solvers',\n",
       " 'sparsemax',\n",
       " 'specs',\n",
       " 'staging',\n",
       " 'stat_summarizer',\n",
       " 'stateless',\n",
       " 'summary',\n",
       " 'tensor_forest',\n",
       " 'tensorboard',\n",
       " 'testing',\n",
       " 'tfprof',\n",
       " 'timeseries',\n",
       " 'tpu',\n",
       " 'training',\n",
       " 'util']"
      ]
     },
     "execution_count": 3,
     "metadata": {},
     "output_type": "execute_result"
    }
   ],
   "source": [
    "import re\n",
    "import tensorflow as tf\n",
    "from tensorflow.python.platform import gfile\n",
    "from tensorflow.python.framework import graph_util\n",
    "dir(tf.contrib)\n"
   ]
  },
  {
   "cell_type": "code",
   "execution_count": 29,
   "metadata": {},
   "outputs": [],
   "source": [
    "def calculate_metrics(chkpoint):\n",
    "    \"\"\"\n",
    "    Profiles a Tensorflow Graph to obtain the parameters and FLOPS\n",
    "    params:\n",
    "    chkpoint: Tensorflow checkpoint. \n",
    "    returns: \n",
    "        stats: FLOPS proto object \n",
    "        params: Parameters proto objects\n",
    "    \n",
    "    \"\"\"\n",
    "    with tf.Graph().as_default():\n",
    "        #GPU options. \n",
    "        gpu_options = tf.GPUOptions(per_process_gpu_memory_fraction=0.4,\n",
    "                        visible_device_list='0',\n",
    "                        allow_growth=True)\n",
    "        #create session config proto object\n",
    "        config = tf.ConfigProto(\n",
    "            gpu_options=gpu_options,\n",
    "            device_count={\n",
    "                \"GPU\": 1,\n",
    "            },\n",
    "            allow_soft_placement=True,\n",
    "            log_device_placement=False\n",
    "        )\n",
    "        #Include to initialise variables. \n",
    "        run_metadata = tf.RunMetadata()\n",
    "        # Run session with specified configs.\n",
    "        with tf.Session(config=config) as sess:\n",
    "            saver = tf.train.import_meta_graph(chkpoint+'.meta', clear_devices=True)\n",
    "            saver.restore(sess, chkpoint)\n",
    "            builder = tf.profiler.ProfileOptionBuilder\n",
    "            stats = tf.profiler.profile(\n",
    "                run_meta= run_metadata,\n",
    "                cmd='op',\n",
    "                options=tf.profiler.ProfileOptionBuilder.float_operation())\n",
    "            opts = tf.profiler.ProfileOptionBuilder.trainable_variables_parameter()    \n",
    "            params = tf.profiler.profile(sess.graph, run_meta=run_metadata, cmd='op', options=opts)\n",
    "    return stats,params\n"
   ]
  },
  {
   "cell_type": "code",
   "execution_count": 30,
   "metadata": {},
   "outputs": [
    {
     "name": "stdout",
     "output_type": "stream",
     "text": [
      "INFO:tensorflow:Restoring parameters from /mnt/storage/home/ja17618/scratch/voxelnet/save_model/pre_trained_200/checkpoint-00184673\n"
     ]
    }
   ],
   "source": [
    "vox_stats,vox_params = calculate_metrics(\"/mnt/storage/home/ja17618/scratch/voxelnet/save_model/pre_trained_200/checkpoint-00184673\")"
   ]
  },
  {
   "cell_type": "code",
   "execution_count": 36,
   "metadata": {},
   "outputs": [
    {
     "name": "stdout",
     "output_type": "stream",
     "text": [
      "INFO:tensorflow:Restoring parameters from /mnt/storage/home/ja17618/scratch/avod/avod/data/outputs/pyramid_cars_example/checkpoints/pyramid_cars_example-00104000\n"
     ]
    }
   ],
   "source": [
    "avod_stats,avod_params= calculate_metrics(\"/mnt/storage/home/ja17618/scratch/avod/avod/data/outputs/pyramid_cars_example/checkpoints/pyramid_cars_example-00104000\")"
   ]
  },
  {
   "cell_type": "code",
   "execution_count": 37,
   "metadata": {},
   "outputs": [
    {
     "data": {
      "text/plain": [
       "6661552"
      ]
     },
     "execution_count": 37,
     "metadata": {},
     "output_type": "execute_result"
    }
   ],
   "source": [
    "vox_params.total_parameters"
   ]
  },
  {
   "cell_type": "code",
   "execution_count": 38,
   "metadata": {},
   "outputs": [
    {
     "name": "stdout",
     "output_type": "stream",
     "text": [
      "696694670729 16682424\n"
     ]
    }
   ],
   "source": [
    "print(avod_stats.total_float_ops, avod_params.total_parameters)"
   ]
  },
  {
   "cell_type": "code",
   "execution_count": 35,
   "metadata": {},
   "outputs": [
    {
     "name": "stdout",
     "output_type": "stream",
     "text": [
      "1227846793165 6661552\n"
     ]
    }
   ],
   "source": [
    "print(vox_stats.total_float_ops, vox_params.total_parameters)"
   ]
  },
  {
   "cell_type": "code",
   "execution_count": 24,
   "metadata": {},
   "outputs": [
    {
     "data": {
      "text/plain": [
       "43.258827191856575"
      ]
     },
     "execution_count": 24,
     "metadata": {},
     "output_type": "execute_result"
    }
   ],
   "source": [
    "(vox_stats.total_float_ops-avod_stats.total_float_ops)/vox_stats.total_float_ops * 100 "
   ]
  },
  {
   "cell_type": "code",
   "execution_count": 25,
   "metadata": {},
   "outputs": [
    {
     "data": {
      "text/plain": [
       "531152122436"
      ]
     },
     "execution_count": 25,
     "metadata": {},
     "output_type": "execute_result"
    }
   ],
   "source": [
    "(vox_stats.total_float_ops-avod_stats.total_float_ops)"
   ]
  },
  {
   "cell_type": "code",
   "execution_count": 40,
   "metadata": {},
   "outputs": [
    {
     "data": {
      "text/plain": [
       "10020872"
      ]
     },
     "execution_count": 40,
     "metadata": {},
     "output_type": "execute_result"
    }
   ],
   "source": [
    "(avod_params.total_parameters - vox_params.total_parameters)"
   ]
  },
  {
   "cell_type": "code",
   "execution_count": 39,
   "metadata": {},
   "outputs": [
    {
     "data": {
      "text/plain": [
       "60.06844089324189"
      ]
     },
     "execution_count": 39,
     "metadata": {},
     "output_type": "execute_result"
    }
   ],
   "source": [
    "(avod_params.total_parameters - vox_params.total_parameters)/avod_params.total_parameters * 100 "
   ]
  },
  {
   "cell_type": "code",
   "execution_count": 43,
   "metadata": {},
   "outputs": [
    {
     "data": {
      "text/plain": [
       "1227846793165"
      ]
     },
     "execution_count": 43,
     "metadata": {},
     "output_type": "execute_result"
    }
   ],
   "source": [
    "vox_stats.total_float_ops"
   ]
  },
  {
   "cell_type": "code",
   "execution_count": 45,
   "metadata": {},
   "outputs": [
    {
     "data": {
      "text/plain": [
       "18.898977013398177"
      ]
     },
     "execution_count": 45,
     "metadata": {},
     "output_type": "execute_result"
    }
   ],
   "source": [
    "232050483200/vox_stats.total_float_ops*100"
   ]
  }
 ],
 "metadata": {
  "kernelspec": {
   "display_name": "Python 3",
   "language": "python",
   "name": "python3"
  },
  "language_info": {
   "codemirror_mode": {
    "name": "ipython",
    "version": 3
   },
   "file_extension": ".py",
   "mimetype": "text/x-python",
   "name": "python",
   "nbconvert_exporter": "python",
   "pygments_lexer": "ipython3",
   "version": "3.6.6"
  }
 },
 "nbformat": 4,
 "nbformat_minor": 2
}
