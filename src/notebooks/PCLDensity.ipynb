{
 "cells": [
  {
   "cell_type": "code",
   "execution_count": 1,
   "metadata": {},
   "outputs": [],
   "source": [
    "import numpy as np\n",
    "import cv2\n",
    "import matplotlib.pyplot as plt\n",
    "import glob\n",
    "import os\n",
    "from config import cfg\n",
    "from scipy.stats import kde\n",
    "from matplotlib.patches import Polygon\n",
    "\n",
    "%matplotlib inline"
   ]
  },
  {
   "cell_type": "code",
   "execution_count": 2,
   "metadata": {},
   "outputs": [],
   "source": [
    "path = \"/mnt/storage/home/ja17618/scratch/DATA_DIR/context/urban/\"\n",
    "path2 = \"/mnt/storage/home/ja17618/scratch/valid1/\"\n",
    "\n",
    "kitti_f = glob.glob(os.path.join(path, 'velodyne', '*.bin'))\n",
    "sil_f = glob.glob(os.path.join(path2, 'output', '*.bin'))\n",
    "\n"
   ]
  },
  {
   "cell_type": "code",
   "execution_count": 3,
   "metadata": {},
   "outputs": [],
   "source": [
    "def lidar_to_bird_view(x, y, factor=1):\n",
    "    # using the cfg.INPUT_XXX\n",
    "    a = (x - cfg.X_MIN) / cfg.VOXEL_X_SIZE * factor\n",
    "    b = (y - cfg.Y_MIN) / cfg.VOXEL_Y_SIZE * factor\n",
    "    a = np.clip(a, a_max=(cfg.X_MAX - cfg.X_MIN) / cfg.VOXEL_X_SIZE * factor, a_min=0)\n",
    "    b = np.clip(b, a_max=(cfg.Y_MAX - cfg.Y_MIN) / cfg.VOXEL_Y_SIZE * factor, a_min=0)\n",
    "    return a, b"
   ]
  },
  {
   "cell_type": "code",
   "execution_count": 4,
   "metadata": {},
   "outputs": [],
   "source": [
    "def lidar_to_bird_view_img(lidar, factor=1):\n",
    "    # Input:\n",
    "    #   lidar: (N', 4)\n",
    "    # Output:\n",
    "    #   birdview: (w, l, 3)\n",
    "    birdview = np.zeros(\n",
    "        (cfg.INPUT_HEIGHT * factor, cfg.INPUT_WIDTH * factor, 1))\n",
    "    for point in lidar:\n",
    "        x, y = point[0:2]\n",
    "        if cfg.X_MIN < x < cfg.X_MAX and cfg.Y_MIN < y < cfg.Y_MAX:\n",
    "            x, y = int((x - cfg.X_MIN) / cfg.VOXEL_X_SIZE *\n",
    "                       factor), int((y - cfg.Y_MIN) / cfg.VOXEL_Y_SIZE * factor)\n",
    "            birdview[y, x] += 1\n",
    "    birdview = birdview - np.min(birdview)\n",
    "    divisor = np.max(birdview) - np.min(birdview)\n",
    "    # TODO: adjust this factor\n",
    "    birdview = np.clip((birdview / divisor * 255) *\n",
    "                       5 * factor, a_min=0, a_max=255)\n",
    "    birdview = np.tile(birdview, 3).astype(np.uint8)\n",
    "\n",
    "    return birdview"
   ]
  },
  {
   "cell_type": "code",
   "execution_count": 5,
   "metadata": {},
   "outputs": [],
   "source": [
    "def calculate_density(file):\n",
    "    x_size=file.shape[0]\n",
    "    y_size=file.shape[1]\n",
    "    val_I = range(0, x_size, 1)\n",
    "    val_J= range(0, y_size, 1)\n",
    "    file[file > 1] = 1\n",
    "    file[:][:][:,0]\n",
    "\n",
    "    return file"
   ]
  },
  {
   "cell_type": "code",
   "execution_count": 10,
   "metadata": {},
   "outputs": [],
   "source": [
    "kitti_d = []\n",
    "for pcl in kitti_f[:1000]:\n",
    "    pcl = np.fromfile(pcl,dtype=np.float32).reshape((-1,4))\n",
    "    kitti_bev = lidar_to_bird_view_img(pcl,factor=cfg.BV_LOG_FACTOR)\n",
    "    x_size,y_size = kitti_bev.shape[0],kitti_bev.shape[1]\n",
    "    my_array = calculate_density(kitti_bev)\n",
    "    kitti_d.append((np.sum(np.asarray(my_array))/3)/(x_size*y_size))"
   ]
  },
  {
   "cell_type": "code",
   "execution_count": 11,
   "metadata": {},
   "outputs": [
    {
     "ename": "AttributeError",
     "evalue": "'int' object has no attribute 'sil_bev'",
     "output_type": "error",
     "traceback": [
      "\u001b[0;31m---------------------------------------------------------------------------\u001b[0m",
      "\u001b[0;31mAttributeError\u001b[0m                            Traceback (most recent call last)",
      "\u001b[0;32m<ipython-input-11-a4d2535c9e40>\u001b[0m in \u001b[0;36m<module>\u001b[0;34m()\u001b[0m\n\u001b[1;32m      3\u001b[0m     \u001b[0mpcl1\u001b[0m \u001b[0;34m=\u001b[0m \u001b[0mnp\u001b[0m\u001b[0;34m.\u001b[0m\u001b[0mfromfile\u001b[0m\u001b[0;34m(\u001b[0m\u001b[0mpcl1\u001b[0m\u001b[0;34m,\u001b[0m\u001b[0mdtype\u001b[0m\u001b[0;34m=\u001b[0m\u001b[0mnp\u001b[0m\u001b[0;34m.\u001b[0m\u001b[0mfloat32\u001b[0m\u001b[0;34m)\u001b[0m\u001b[0;34m.\u001b[0m\u001b[0mreshape\u001b[0m\u001b[0;34m(\u001b[0m\u001b[0;34m(\u001b[0m\u001b[0;34m-\u001b[0m\u001b[0;36m1\u001b[0m\u001b[0;34m,\u001b[0m\u001b[0;36m4\u001b[0m\u001b[0;34m)\u001b[0m\u001b[0;34m)\u001b[0m\u001b[0;34m\u001b[0m\u001b[0m\n\u001b[1;32m      4\u001b[0m     \u001b[0msil_bev\u001b[0m \u001b[0;34m=\u001b[0m \u001b[0mlidar_to_bird_view_img\u001b[0m\u001b[0;34m(\u001b[0m\u001b[0mpcl1\u001b[0m\u001b[0;34m,\u001b[0m\u001b[0mfactor\u001b[0m\u001b[0;34m=\u001b[0m\u001b[0mcfg\u001b[0m\u001b[0;34m.\u001b[0m\u001b[0mBV_LOG_FACTOR\u001b[0m\u001b[0;34m)\u001b[0m\u001b[0;34m\u001b[0m\u001b[0m\n\u001b[0;32m----> 5\u001b[0;31m     \u001b[0mx_size\u001b[0m\u001b[0;34m,\u001b[0m\u001b[0my_size\u001b[0m \u001b[0;34m=\u001b[0m \u001b[0msil_bev\u001b[0m\u001b[0;34m.\u001b[0m\u001b[0mshape\u001b[0m\u001b[0;34m[\u001b[0m\u001b[0;36m0\u001b[0m\u001b[0;34m]\u001b[0m\u001b[0;34m.\u001b[0m\u001b[0msil_bev\u001b[0m\u001b[0;34m.\u001b[0m\u001b[0mshape\u001b[0m\u001b[0;34m[\u001b[0m\u001b[0;36m1\u001b[0m\u001b[0;34m]\u001b[0m\u001b[0;34m\u001b[0m\u001b[0m\n\u001b[0m\u001b[1;32m      6\u001b[0m     \u001b[0mmy_array\u001b[0m \u001b[0;34m=\u001b[0m \u001b[0mcalculate_density\u001b[0m\u001b[0;34m(\u001b[0m\u001b[0msil_bev\u001b[0m\u001b[0;34m)\u001b[0m\u001b[0;34m\u001b[0m\u001b[0m\n\u001b[1;32m      7\u001b[0m     \u001b[0msil_d\u001b[0m\u001b[0;34m.\u001b[0m\u001b[0mappend\u001b[0m\u001b[0;34m(\u001b[0m\u001b[0;34m(\u001b[0m\u001b[0mnp\u001b[0m\u001b[0;34m.\u001b[0m\u001b[0msum\u001b[0m\u001b[0;34m(\u001b[0m\u001b[0mnp\u001b[0m\u001b[0;34m.\u001b[0m\u001b[0masarray\u001b[0m\u001b[0;34m(\u001b[0m\u001b[0mmy_array\u001b[0m\u001b[0;34m)\u001b[0m\u001b[0;34m)\u001b[0m\u001b[0;34m/\u001b[0m\u001b[0;36m3\u001b[0m\u001b[0;34m)\u001b[0m\u001b[0;34m/\u001b[0m\u001b[0;34m(\u001b[0m\u001b[0mx_size\u001b[0m\u001b[0;34m*\u001b[0m\u001b[0my_size\u001b[0m\u001b[0;34m)\u001b[0m\u001b[0;34m)\u001b[0m\u001b[0;34m\u001b[0m\u001b[0m\n",
      "\u001b[0;31mAttributeError\u001b[0m: 'int' object has no attribute 'sil_bev'"
     ]
    }
   ],
   "source": [
    "sil_d = []\n",
    "for pcl1 in sil_f[:1000]:\n",
    "    pcl1 = np.fromfile(pcl1,dtype=np.float32).reshape((-1,4))\n",
    "    sil_bev = lidar_to_bird_view_img(pcl1,factor=cfg.BV_LOG_FACTOR)\n",
    "    x_size,y_size = sil_bev.shape[0].sil_bev.shape[1]\n",
    "    my_array = calculate_density(sil_bev)\n",
    "    sil_d.append((np.sum(np.asarray(my_array))/3)/(x_size*y_size))"
   ]
  },
  {
   "cell_type": "code",
   "execution_count": null,
   "metadata": {},
   "outputs": [],
   "source": [
    "np.mean(kitti_d)"
   ]
  },
  {
   "cell_type": "code",
   "execution_count": null,
   "metadata": {},
   "outputs": [],
   "source": [
    "np.mean(sil_d)"
   ]
  },
  {
   "cell_type": "code",
   "execution_count": null,
   "metadata": {},
   "outputs": [],
   "source": [
    "(np.mean(kitti_d)-np.mean(sil_d))/np.mean(kitti_d) * 100\n"
   ]
  },
  {
   "cell_type": "code",
   "execution_count": null,
   "metadata": {},
   "outputs": [],
   "source": [
    "kitti_d = np.array(kitti_d)\n",
    "sil_d= np.array(sil_d)"
   ]
  },
  {
   "cell_type": "code",
   "execution_count": null,
   "metadata": {},
   "outputs": [],
   "source": [
    "data = [kitti_d,sil_d]\n",
    "dists = ['Kitti Point Cloud Density', 'SIL Point Cloud Density']\n",
    "fig, ax1 = plt.subplots(figsize=(10, 10))\n",
    "fig.canvas.set_window_title('A Boxplot Example')\n",
    "plt.subplots_adjust(left=0.075, right=0.95, top=0.9, bottom=0.25)\n",
    "numDists = 1\n",
    "bp = plt.boxplot(data, notch=0, sym='+', vert=1, whis=1.5)\n",
    "plt.setp(bp['boxes'], color='black')\n",
    "plt.setp(bp['whiskers'], color='black')\n",
    "plt.setp(bp['fliers'], color='red', marker='+')\n",
    "\n",
    "# Add a horizontal grid to the plot, but make it very light in color\n",
    "# so we can use it for reading data values but not be distracting\n",
    "ax1.yaxis.grid(True, linestyle='-', which='major', color='lightgrey',\n",
    "               alpha=0.5)\n",
    "\n",
    "# Hide these grid behind plot objects\n",
    "ax1.set_axisbelow(True)\n",
    "ax1.set_title('Density Comparison between SIL and KITTI Point Cloud Frames')\n",
    "ax1.set_ylabel('Density')\n",
    "\n",
    "# Now fill the boxes with desired colors\n",
    "boxColors = ['darkkhaki', 'royalblue']\n",
    "numBoxes = numDists*2\n",
    "medians = list(range(numBoxes))\n",
    "for i in range(numBoxes):\n",
    "    box = bp['boxes'][i]\n",
    "    boxX = []\n",
    "    boxY = []\n",
    "    for j in range(5):\n",
    "        boxX.append(box.get_xdata()[j])\n",
    "        boxY.append(box.get_ydata()[j])\n",
    "    boxCoords = list(zip(boxX, boxY))\n",
    "    # Alternate between Dark Khaki and Royal Blue\n",
    "    k = i % 2\n",
    "    boxPolygon = Polygon(boxCoords, facecolor=boxColors[k])\n",
    "    ax1.add_patch(boxPolygon)\n",
    "    # Now draw the median lines back over what we just filled in\n",
    "    med = bp['medians'][i]\n",
    "    medianX = []\n",
    "    medianY = []\n",
    "    for j in range(2):\n",
    "        medianX.append(med.get_xdata()[j])\n",
    "        medianY.append(med.get_ydata()[j])\n",
    "        plt.plot(medianX, medianY, 'k')\n",
    "        medians[i] = medianY[0]\n",
    "    # Finally, overplot the sample averages, with horizontal alignment\n",
    "    # in the center of each box\n",
    "    plt.plot([np.mean(med.get_xdata())], [np.mean(data[i])],\n",
    "             color='w', marker='X', markeredgecolor='k')\n",
    "    x1 =[np.average(med.get_xdata())] \n",
    "    y1 =[np.average(data[i])]\n",
    "    for a,b in zip(x1, y1): \n",
    "        st = \"{0:.4f}\".format(b)\n",
    "        plt.text(a+0.09, b, st)\n",
    "# Set the axes ranges and axes labels\n",
    "ax1.set_xlim(0.5, numBoxes + 0.5)\n",
    "xtickNames = plt.setp(ax1, xticklabels=dists)\n",
    "plt.setp(xtickNames, rotation=45, fontsize=8)\n",
    "#\n",
    "# Due to the Y-axis scale being different across samples, it can be\n",
    "# hard to compare differences in medians across the samples. Add upper\n",
    "# X-axis tick labels with the sample medians to aid in comparison\n",
    "# (just use two decimal places of precision)\n",
    "pos = np.arange(numBoxes) + 1\n",
    "upperLabels = [str(np.round(s, 4)) for s in medians]\n",
    "weights = ['bold', 'semibold']\n",
    "top=0.0025\n",
    "for tick, label in zip(range(numBoxes), ax1.get_xticklabels()):\n",
    "    k = tick % 2\n",
    "    ax1.text(pos[tick], top, upperLabels[tick],\n",
    "              horizontalalignment='center', \n",
    "              size='medium', weight=weights[k],\n",
    "              color=boxColors[k])\n",
    "\n",
    "\n",
    "# Finally, add a basic legend\n",
    "# plt.figtext(0.80, 0.08, str(N) + ' Random Numbers',\n",
    "#             backgroundcolor=boxColors[0], color='black', weight='roman',\n",
    "#             size='x-small')\n",
    "\n",
    "plt.figtext(0.80, 0.015, 'X', color='white', backgroundcolor='silver',\n",
    "            weight='roman', size='medium')\n",
    "plt.figtext(0.815, 0.013, ' Average Value', color='black', weight='roman',\n",
    "            size='medium')\n",
    "plt.savefig('density.png',dpi=300)\n",
    "# plt.show()"
   ]
  }
 ],
 "metadata": {
  "anaconda-cloud": {},
  "kernelspec": {
   "display_name": "Python 3",
   "language": "python",
   "name": "python3"
  },
  "language_info": {
   "codemirror_mode": {
    "name": "ipython",
    "version": 3
   },
   "file_extension": ".py",
   "mimetype": "text/x-python",
   "name": "python",
   "nbconvert_exporter": "python",
   "pygments_lexer": "ipython3",
   "version": "3.6.6"
  }
 },
 "nbformat": 4,
 "nbformat_minor": 2
}
