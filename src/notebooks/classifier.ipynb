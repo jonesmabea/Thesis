{
 "cells": [
  {
   "cell_type": "code",
   "execution_count": 1,
   "metadata": {
    "collapsed": false
   },
   "outputs": [],
   "source": [
    "import pydriver\n",
    "import numpy as np \n",
    "import sklearn, sklearn.cluster, matplotlib.pyplot as plt\n",
    "from sklearn.metrics import confusion_matrix\n",
    "from sklearn.metrics import precision_recall_fscore_support, average_precision_score, precision_recall_curve\n",
    "import pandas as pd\n",
    "import copy, datetime \n",
    "import itertools\n",
    "from random import shuffle,random\n",
    "from collections import Counter\n",
    "\n",
    "import glob, os"
   ]
  },
  {
   "cell_type": "code",
   "execution_count": null,
   "metadata": {},
   "outputs": [],
   "source": []
  },
  {
   "cell_type": "code",
   "execution_count": 2,
   "metadata": {
    "collapsed": false
   },
   "outputs": [],
   "source": [
    "path = \"/mnt/storage/home/ja17618/scratch/DATA_DIR/training/\"\n",
    "label_path ='/mnt/storage/home/ja17618/scratch/models/research/deeplab/datasets/labels.csv'\n",
    "f_lidar = glob.glob(os.path.join(path, 'velodyne', '*.bin'))\n",
    "f_rgb = glob.glob(os.path.join(path, 'image_2', '*.png'))\n",
    "f_labels = glob.glob(os.path.join(path, 'label_2', '*.txt'))\n",
    "data_tag = [name.split('/')[-1].split('.')[-2] for name in f_lidar]\n",
    "files=[tag+\".bin\" for tag in data_tag]"
   ]
  },
  {
   "cell_type": "code",
   "execution_count": 3,
   "metadata": {
    "collapsed": false
   },
   "outputs": [],
   "source": [
    "# point cloud coloring (False: reflectance, True: camera)\n",
    "USE_IMAGE_COLOR = False\n",
    "reader = pydriver.datasets.kitti.KITTIObjectsReader(path)\n",
    "reconstructor = pydriver.preprocessing.LidarReconstructor(\n",
    "    useImageColor=USE_IMAGE_COLOR,\n",
    "    removeInvisible=True,\n",
    "    )\n",
    "# mandatory ground truth categories\n",
    "DETECTION_CATEGORIES = ['car','van', 'truck', 'pedestrian', 'person_sitting', 'cyclist','tram']\n",
    "# optional ground truth categories\n",
    "DETECTION_CATEGORIES_OPT = ['misc', 'dontcare']\n",
    "\n",
    "MIN_OVERLAP = 0.7               # minimal overlap between 2D boxes\n",
    "EVALUATION_MODE = 'hard'    # mode (easy, moderate, hard)\n",
    "VISUALIZE3D = False  "
   ]
  },
  {
   "cell_type": "code",
   "execution_count": 4,
   "metadata": {
    "collapsed": false
   },
   "outputs": [],
   "source": [
    "SHOT_RADIUS = 2.0\n",
    "preprocessor = pydriver.preprocessing.Preprocessor(reconstructor)\n",
    "keypointExtractor = pydriver.keypoints.ISSExtractor(salientRadius=0.25, nonMaxRadius=0.25)\n",
    "featureExtractor = pydriver.features.SHOTColorExtractor(shotRadius=SHOT_RADIUS, fixedY=-1.0)\n",
    "featureTypes = [('myfeature', featureExtractor.dims),]\n"
   ]
  },
  {
   "cell_type": "code",
   "execution_count": 5,
   "metadata": {
    "collapsed": true
   },
   "outputs": [],
   "source": [
    "# # function the vocabularies will use to create category storages\n",
    "# def storageGenerator(dims, category):\n",
    "#     sto = pydriver.detectors.vocabularies.Storage(dims, category,\n",
    "#         preprocessors=[],\n",
    "#         regressor=sklearn.neighbors.KNeighborsRegressor(n_neighbors=1),\n",
    "#         )\n",
    "#     return sto\n",
    "# # function the detector will use to create vocabularies\n",
    "# def vocabularyGenerator(dimensions, featureName):\n",
    "# #     ada_clf=sklearn.ensemble.AdaBoostClassifier(n_estimators=75)\n",
    "# #     svm_clf = sklearn.svm.SVC(probability=True)\n",
    "# #     rand_clf =sklearn.ensemble.RandomForestClassifier()\n",
    "# #     voting_clf = sklearn.ensemble.VotingClassifier(estimators=[('ada', ada_clf),('svc',svm_clf),('rf',rand_clf)],voting='soft')\n",
    "# #     bag_clf = sklearn.ensemble.BaggingClassifier(n_estimators=65,n_jobs=-1,max_samples=10)\n",
    "\n",
    "#     voc = pydriver.detectors.vocabularies.Vocabulary(\n",
    "#         dimensions,\n",
    "#         preprocessors=[\n",
    "#             sklearn.cluster.MiniBatchKMeans(n_clusters=50, batch_size=10),#, max_iter=100),\n",
    "#             ],\n",
    "#         classifier=sklearn.ensemble.AdaBoostClassifier(n_estimators=120),\n",
    "#         storageGenerator=storageGenerator,\n",
    "#         balanceNegatives=True,\n",
    "#         )\n",
    "#     return voc"
   ]
  },
  {
   "cell_type": "code",
   "execution_count": 6,
   "metadata": {
    "collapsed": true
   },
   "outputs": [],
   "source": [
    "# function the vocabularies will use to create category storages\n",
    "def storageGenerator(dims, category):\n",
    "    sto = pydriver.detectors.vocabularies.Storage(dims, category,\n",
    "        preprocessors=[],\n",
    "        regressor=sklearn.neighbors.KNeighborsRegressor(n_neighbors=1),\n",
    "        )\n",
    "    return sto\n",
    "# function the detector will use to create vocabularies\n",
    "def vocabularyGenerator(dimensions, featureName):\n",
    "#     ada_clf=sklearn.ensemble.AdaBoostClassifier(n_estimators=75)\n",
    "#     svm_clf = sklearn.svm.SVC(probability=True)\n",
    "#     rand_clf =sklearn.ensemble.RandomForestClassifier()\n",
    "#     voting_clf = sklearn.ensemble.VotingClassifier(estimators=[('ada', ada_clf),('svc',svm_clf),('rf',rand_clf)],voting='soft')\n",
    "#     bag_clf = sklearn.ensemble.BaggingClassifier(n_estimators=65,n_jobs=-1,max_samples=10)\n",
    "\n",
    "    voc = pydriver.detectors.vocabularies.Vocabulary(\n",
    "        dimensions,\n",
    "        preprocessors=[\n",
    "            sklearn.cluster.MiniBatchKMeans(n_clusters=50, batch_size=10),#, max_iter=100),\n",
    "            ],\n",
    "        classifier=sklearn.ensemble.AdaBoostClassifier(n_estimators=120),\n",
    "        storageGenerator=storageGenerator,\n",
    "        balanceNegatives=True,\n",
    "        )\n",
    "    return voc"
   ]
  },
  {
   "cell_type": "code",
   "execution_count": 7,
   "metadata": {
    "collapsed": true
   },
   "outputs": [],
   "source": [
    "# initialize detector that will perform learning and recognition\n",
    "detector = pydriver.detectors.Detector(featureTypes, vocabularyGenerator=vocabularyGenerator)\n",
    "detector=detector.load('working_model')"
   ]
  },
  {
   "cell_type": "code",
   "execution_count": 8,
   "metadata": {
    "collapsed": true
   },
   "outputs": [],
   "source": [
    "context_df = pd.read_csv(label_path,dtype={'frame': np.int32, 'context': np.str},names=['frame','context'],header=0,index_col=False)\n",
    "# context_df['frame']=context_df['frame'].apply(lambda x: '{0:0>6}'.format(x))\n",
    "\n",
    "# context_df = pd.read_csv(label_path,index_col=False,header=0)\n",
    "def get_training_frames(num=1000,shuf=0):\n",
    "    urban = context_df.loc[context_df['context']=='urban','frame'][:num]\n",
    "    non_urban = context_df.loc[context_df['context']=='non-urban','frame'][:num]\n",
    "    ret = [x for x in itertools.chain.from_iterable(itertools.zip_longest(urban,non_urban)) if x]\n",
    "    if shuf:\n",
    "        return shuffle(ret)\n",
    "    else:\n",
    "        return ret\n",
    "    \n",
    "def original_context(frame):\n",
    "    c_df = context_df[context_df['frame']==frame]\n",
    "    return str(c_df['context'].values[0]).lower()\n"
   ]
  },
  {
   "cell_type": "code",
   "execution_count": null,
   "metadata": {
    "collapsed": true
   },
   "outputs": [],
   "source": []
  },
  {
   "cell_type": "code",
   "execution_count": 9,
   "metadata": {
    "collapsed": true
   },
   "outputs": [],
   "source": [
    "# # for image,pcl,label in zip(f_rgb,f_lidar,f_labels):\n",
    "# #     print(\"File Number %s\" %(image.split('/')[-1].split('.')[-2]))\n",
    "# #     raw_lidar = np.fromfile(pcl,dtype=np.float32).reshape((-1,4))\n",
    "# #     scene = preprocessor.process(raw_lidar)\n",
    "# #     input()\n",
    "# np.set_printoptions(threshold=np.inf)\n",
    "# timeStart = datetime.datetime.now()\n",
    "# cnt=0\n",
    "# passed=0\n",
    "# for frame in get_training_frames(50):\n",
    "    \n",
    "#     frame = reader.getFrameInfo(frame)\n",
    "#     print('Training on frame %d...' % frame['frameId'])\n",
    "#     scene = preprocessor.process(frame)\n",
    "#     keypointCloud = keypointExtractor.getKeypointCloud(scene)\n",
    "#     fkeypoints, features = featureExtractor.getFeatures(scene, keypointCloud)\n",
    "# #     print(fkeypoints)\n",
    "# #     groundTruth, groåndTruthOpt = pydriver.datasets.kitti.getKITTIGroundTruth(\n",
    "#         frame['labels'],\n",
    "#         DETECTION_CATEGORIES,\n",
    "#         DETECTION_CATEGORIES_OPT,\n",
    "#         mode='hard',    # use moderate mode for training\n",
    "#         )\n",
    "#     category = get_context(frame['frameId'])\n",
    "#     boxes3D_exclude = []\n",
    "# #     if len(groundTruth)== 0: \n",
    "# #             cnt+=1\n",
    "# #             print(cnt)\n",
    "# #             if category == 'urban':\n",
    "\n",
    "# #                 # get keypoints which lie inside the labeled object box\n",
    "# # #                 boxKeypointCloud = keypointCloud.extractOrientedBoxes([box3D])\n",
    "# #                 # extract features at these keypoints (and get new keypoints\n",
    "# #                 # which depend on the feature extractor)\n",
    "# #                 try:\n",
    "# # #                     fkeypoints, features = featureExtractor.getFeatures(scene, keypointCloud)\n",
    "# #                     # learn new features and relations between features and objects\n",
    "# #                     detector.addWords(category, 'myfeature', features, fkeypoints)\n",
    "\n",
    "# #                 except:\n",
    "# #                     passed+=1\n",
    "# #                     pass\n",
    "\n",
    "# #             if category == 'non-urban':\n",
    "# #             # get keypoints which lie inside the labeled object box\n",
    "# #     #             box3D_exclude = copy.deepcopy(box3D)\n",
    "# #     #             box3D_exclude['dimensions']['height'] += 2*SHOT_RADIUS\n",
    "# #     #             box3D_exclude['dimensions']['width'] += 2*SHOT_RADIUS\n",
    "# #     #             box3D_exclude['dimensions']['length'] += 2*SHOT_RADIUS\n",
    "# #     #             boxes3D_exclude.append(box3D_exclude)\n",
    "# #     #             negativeKeypointCloud = keypointCloud.extractOrientedBoxes(boxes3D_exclude, invert=True)\n",
    "# #     # # # extract features at these keypoints\n",
    "# #     #             fkeypoints, features = featureExtractor.getFeatures(scene, negativeKeypointCloud)\n",
    "# #     # # learn features associated with absence of objects\n",
    "# #     #             detector.addWords('negative', 'myfeature', features)\n",
    "# #     # #             boxKeypointCloud = keypointCloud.extractOrientedBoxes([box3D])\n",
    "# #     #                 # extract features at these keypoints (and get new keypoints\n",
    "# #     #                 # which depend on the feature extractor)\n",
    "# #     #             fkeypoints, features = featureExtractor.getFeatures(scene, boxKeypointCloud)\n",
    "# # #                 boxKeypointCloud = keypointCloud.extractOrientedBoxes([box3D])\n",
    "# #                 try:\n",
    "# # #                     fkeypoints, features = featureExtractor.getFeatures(scene, keypointCloud)\n",
    "# #                     # learn new features and relations between features and objects\n",
    "# #                     detector.addWords(category, 'myfeature', features, fkeypoints)\n",
    "# #                 except:\n",
    "# #                     passed+=1\n",
    "# #                     pass\n",
    "# #                     # learn new features and relations between features and objects\n",
    "\n",
    "        \n",
    "# #     else:\n",
    "        \n",
    "#     for label in groundTruth + groundTruthOpt:\n",
    "#         box3D = pydriver.geometry.transform3DBox(label['box3D'], scene['transformation'])\n",
    "#         # avoid training with non-negative examples\n",
    "#         # the box is made bigger so SHOT features used as negatives\n",
    "#         # don't capture parts of the object\n",
    "# #         box3D_exclude = copy.deepcopy(box3D)\n",
    "# #         box3D_exclude['dimensions']['height'] += 2*SHOT_RADIUS\n",
    "# #         box3D_exclude['dimensions']['width'] += 2*SHOT_RADIUS\n",
    "# #         box3D_exclude['dimensions']['length'] += 2*SHOT_RADIUS\n",
    "# #         boxes3D_exclude.append(box3D_exclude)\n",
    "# #         if label in groundTruth:\n",
    "#         if category == 'urban':\n",
    "\n",
    "#             # get keypoints which lie inside the labeled object box\n",
    "#             boxKeypointCloud = keypointCloud.extractOrientedBoxes([box3D])\n",
    "#             # extract features at these keypoints (and get new keypoints\n",
    "#             # which depend on the feature extractor)\n",
    "#             fkeypoints, features = featureExtractor.getFeatures(scene, boxKeypointCloud)\n",
    "#                 # learn new features and relations between features and objects\n",
    "#             detector.addWords(category, 'myfeature', features, fkeypoints,box3D)\n",
    "\n",
    "#         if category == 'non-urban':\n",
    "#         # get keypoints which lie inside the labeled object box\n",
    "# #             box3D_exclude = copy.deepcopy(box3D)\n",
    "# #             box3D_exclude['dimensions']['height'] += 2*SHOT_RADIUS\n",
    "# #             box3D_exclude['dimensions']['width'] += 2*SHOT_RADIUS\n",
    "# #             box3D_exclude['dimensions']['length'] += 2*SHOT_RADIUS\n",
    "# #             boxes3D_exclude.append(box3D_exclude)\n",
    "# #             negativeKeypointCloud = keypointCloud.extractOrientedBoxes(boxes3D_exclude, invert=True)\n",
    "# # # # extract features at these keypoints\n",
    "# #             fkeypoints, features = featureExtractor.getFeatures(scene, negativeKeypointCloud)\n",
    "# # # learn features associated with absence of objects\n",
    "# #             detector.addWords('negative', 'myfeature', features)\n",
    "# # #             boxKeypointCloud = keypointCloud.extractOrientedBoxes([box3D])\n",
    "# #                 # extract features at these keypoints (and get new keypoints\n",
    "# #                 # which depend on the feature extractor)\n",
    "# #             fkeypoints, features = featureExtractor.getFeatures(scene, boxKeypointCloud)\n",
    "#             boxKeypointCloud = keypointCloud.extractOrientedBoxes([box3D])\n",
    "#             fkeypoints, features = featureExtractor.getFeatures(scene, boxKeypointCloud)\n",
    "#             detector.addWords('negative', 'myfeature', features,fkeypoints,box3D)\n",
    "#                 # learn new features and relations between features and objects\n",
    "\n",
    "# print(\"passed: %d\" %passed)            \n",
    "# timeTraining = datetime.datetime.now() - timeStart \n",
    "# # perform learning on stored data\n",
    "# print('Learning...')\n",
    "# timeStart = datetime.datetime.now()\n",
    "# detector.learn(nStorageMaxRandomSamples=25000)\n",
    "# timeLearning = datetime.datetime.now() - timeStart\n"
   ]
  },
  {
   "cell_type": "code",
   "execution_count": 11,
   "metadata": {
    "collapsed": false
   },
   "outputs": [
    {
     "name": "stderr",
     "output_type": "stream",
     "text": [
      "/mnt/storage/home/ja17618/.conda/envs/vox/lib/python3.6/site-packages/ipykernel/__main__.py:86: FutureWarning: elementwise == comparison failed and returning scalar instead; this will raise an error or perform elementwise comparison in the future.\n",
      "/mnt/storage/home/ja17618/.conda/envs/vox/lib/python3.6/site-packages/sklearn/metrics/pairwise.py:257: RuntimeWarning: invalid value encountered in sqrt\n",
      "  return distances if squared else np.sqrt(distances, out=distances)\n"
     ]
    },
    {
     "name": "stdout",
     "output_type": "stream",
     "text": [
      "Testing on frame 110...\n",
      "Testing on frame 240...\n",
      "Testing on frame 374...\n",
      "Testing on frame 514...\n",
      "Testing on frame 631...\n",
      "Testing on frame 791...\n",
      "Testing on frame 946...\n",
      "Testing on frame 1087...\n",
      "Testing on frame 1326...\n",
      "Testing on frame 1467...\n",
      "Testing on frame 1632...\n",
      "Testing on frame 1777...\n",
      "Testing on frame 1958...\n",
      "Testing on frame 2105...\n",
      "Testing on frame 2236...\n",
      "Testing on frame 2368...\n",
      "Testing on frame 2501...\n",
      "Testing on frame 2650...\n",
      "Testing on frame 2779...\n",
      "Testing on frame 2898...\n",
      "Testing on frame 3081...\n",
      "Testing on frame 3345...\n",
      "Testing on frame 3589...\n",
      "Testing on frame 3843...\n",
      "Testing on frame 4056...\n",
      "Testing on frame 4328...\n",
      "Testing on frame 4639...\n",
      "Testing on frame 4911...\n",
      "Testing on frame 5177...\n",
      "Testing on frame 5418...\n"
     ]
    }
   ],
   "source": [
    "# print(timeTraining)\n",
    "# print(timeLearning)\n",
    "def predict_context(detection,thresh=False):\n",
    "    contexts = [det['category'].decode('UTF-8') for det in detection]\n",
    "    c = Counter(contexts)\n",
    "    cls,num = c.most_common(1)[0]\n",
    "    tot = sum(c.values())\n",
    "    prob = num/tot\n",
    "    if cls=='negative':\n",
    "        cls='non-urban'\n",
    "    if thresh:\n",
    "         if prob<0.6:\n",
    "            cls='urban'\n",
    "            prob=1-prob\n",
    "    return cls,prob\n",
    "\n",
    "def get_unicode_detections(detection):\n",
    "    def replace_negative(det):\n",
    "        if det=='negative':\n",
    "            return 'non-urban'\n",
    "        else:\n",
    "            return det\n",
    "        \n",
    "    contexts = [replace_negative(det['category'].decode('UTF-8')) for det in detection]\n",
    "    c = Counter(contexts)\n",
    "    cls, num = c.most_common()\n",
    "    return cls,num\n",
    "def plot_confusion_matrix(cm, classes,\n",
    "                          normalize=False,\n",
    "                          title='Confusion matrix',\n",
    "                          cmap=plt.cm.Blues):\n",
    "    \"\"\"\n",
    "    This function prints and plots the confusion matrix.\n",
    "    Normalization can be applied by setting `normalize=True`.\n",
    "    \"\"\"\n",
    "    if normalize:\n",
    "        cm = cm.astype('float') / cm.sum(axis=1)[:, np.newaxis]\n",
    "        print(\"Normalized confusion matrix\")\n",
    "    else:\n",
    "        print('Confusion matrix, without normalization')\n",
    "\n",
    "    print(cm)\n",
    "\n",
    "    plt.imshow(cm, interpolation='nearest', cmap=cmap)\n",
    "    plt.title(title)\n",
    "    plt.colorbar()\n",
    "    tick_marks = np.arange(len(classes))\n",
    "    plt.xticks(tick_marks, classes, rotation=45)\n",
    "    plt.yticks(tick_marks, classes)\n",
    "\n",
    "    fmt = '.2f' if normalize else 'd'\n",
    "    thresh = cm.max() / 2.\n",
    "    for i, j in itertools.product(range(cm.shape[0]), range(cm.shape[1])):\n",
    "        plt.text(j, i, format(cm[i, j], fmt),\n",
    "                 horizontalalignment=\"center\",\n",
    "                 color=\"white\" if cm[i, j] > thresh else \"black\")\n",
    "\n",
    "    plt.tight_layout()\n",
    "    plt.ylabel('True label')\n",
    "    plt.xlabel('Predicted label')\n",
    "\n",
    "# evaluator = pydriver.evaluation.Evaluator(minOverlap=MIN_OVERLAP, nPoints=100)\n",
    "# perform testing with frames which were not used for training\n",
    "firstFrame = 1000\n",
    "lastFrame = firstFrame+ 10\n",
    "timeStart = datetime.datetime.now()\n",
    "y_pred = []\n",
    "y_true = []\n",
    "y_prob =[]\n",
    "y_frame=[] \n",
    "class_names=['non-urban','urban']\n",
    "cnt=0\n",
    "for frame in get_training_frames(2000):\n",
    "    \n",
    "    frame = reader.getFrameInfo(frame)\n",
    "#     print('Testing on frame %d...' % frame['frameId'])\n",
    "    # see the training part above\n",
    "    scene = preprocessor.process(frame)\n",
    "    keypointCloud = keypointExtractor.getKeypointCloud(scene)\n",
    "\n",
    "\n",
    "    # extract keypoints and features for the whole scene\n",
    "    fkeypoints, features = featureExtractor.getFeatures(scene, keypointCloud)\n",
    "    # perform recognition on extracted features\n",
    "\n",
    "    detections = detector.recognize({'myfeature': (fkeypoints,features)})\n",
    "#     print(detections)\n",
    "    # convert 3D detections (NumPy array) to labels (list of\n",
    "    # dictionaries) that include 2D box projections used for evaluation\n",
    "    # and revert the transformation of the scene, so they have the same\n",
    "    # coordinate system as the original KITTI labels\n",
    "#     detections_labels = pydriver.datasets.detections2labels(\n",
    "#         detections,\n",
    "#         scene['transformation'].I,    # inverse matrix\n",
    "#         frame['calibration']['projection_left'],\n",
    "#         scene['img_left'].shape,\n",
    "#         )\n",
    "#     dets =get_detections(detections)\n",
    "#     print(dets)\n",
    "    pred,prob = predict_context(detections,thresh=True)\n",
    "    orig = original_context(frame['frameId'])\n",
    "#     print(cls,orig)\n",
    "    if pred != orig: \n",
    "        y_frame.append([frame['frameId'],pred,orig])\n",
    "    y_true.append(orig)\n",
    "    y_pred.append(pred)\n",
    "    y_prob.append(prob)\n",
    "    cnt+=1\n",
    "    \n",
    "    if cnt%100==0:\n",
    "        print('Testing on frame %d...' % frame['frameId'])\n",
    "\n",
    "timeEvaluation = datetime.datetime.now() - timeStart\n",
    "\n",
    "# show evaluation results\n",
    "# print(\"Training time: %s\" % timeTraining)\n",
    "# print(\"Learning time: %s\" % timeLearning)\n",
    "# print(\"Evaluation time: %s\" % timeEvaluation)\n",
    "\n"
   ]
  },
  {
   "cell_type": "code",
   "execution_count": 14,
   "metadata": {
    "collapsed": false
   },
   "outputs": [
    {
     "name": "stdout",
     "output_type": "stream",
     "text": [
      "Confusion matrix, without normalization\n",
      "[[ 473  548]\n",
      " [ 540 1463]]\n",
      "Normalized confusion matrix\n",
      "[[0.4632713  0.5367287 ]\n",
      " [0.26959561 0.73040439]]\n"
     ]
    },
    {
     "data": {
      "image/png": "[encoded data removed]",
      "text/plain": [
       "<Figure size 432x288 with 2 Axes>"
      ]
     },
     "metadata": {},
     "output_type": "display_data"
    },
    {
     "data": {
      "image/png": "[encoded data removed]",
      "text/plain": [
       "<Figure size 432x288 with 2 Axes>"
      ]
     },
     "metadata": {},
     "output_type": "display_data"
    }
   ],
   "source": [
    "# print([(x,y) for x,y  in zip(y_true,y_prob) if x=='non-urban'])\n",
    "cnf_matrix = confusion_matrix(y_true,y_pred,labels=class_names)\n",
    "\n",
    "plot_confusion_matrix(cnf_matrix, classes=class_names,\n",
    "                      title='Confusion matrix, without normalization')\n",
    "\n",
    "# Plot normalized confusion matrix\n",
    "plt.figure()\n",
    "plot_confusion_matrix(cnf_matrix, classes=class_names, normalize=True,\n",
    "                      title='Normalized confusion matrix')\n",
    "\n",
    "\n"
   ]
  },
  {
   "cell_type": "code",
   "execution_count": 13,
   "metadata": {
    "collapsed": false
   },
   "outputs": [
    {
     "name": "stdout",
     "output_type": "stream",
     "text": [
      "Average precision: 0.57\n"
     ]
    },
    {
     "data": {
      "text/plain": [
       "Text(0.5,1,'2-class Precision-Recall curve: AP=0.57')"
      ]
     },
     "execution_count": 13,
     "metadata": {},
     "output_type": "execute_result"
    },
    {
     "data": {
      "image/png": "[encoded data removed]",
      "text/plain": [
       "<Figure size 432x288 with 1 Axes>"
      ]
     },
     "metadata": {},
     "output_type": "display_data"
    }
   ],
   "source": [
    "# print(set(y_true))\n",
    "# print(set(y_pred))\n",
    "y = [np.where(y_t == 'urban', True, False) for y_t in y_true]\n",
    "\n",
    "avg_prec = average_precision_score(y,y_prob)\n",
    "print(\"Average precision: %.2f\" % avg_prec)\n",
    "\n",
    "precision, recall, _ = precision_recall_curve(y, y_prob)\n",
    "\n",
    "plt.step(recall, precision, color='b', alpha=0.2,\n",
    "         where='post')\n",
    "plt.fill_between(recall, precision, step='post', alpha=0.2,\n",
    "                 color='b')\n",
    "\n",
    "plt.xlabel('Recall')\n",
    "plt.ylabel('Precision')\n",
    "plt.ylim([0.0, 1.05])\n",
    "plt.xlim([0.0, 1.0])\n",
    "plt.title('2-class Precision-Recall curve: AP={0:0.2f}'.format(\n",
    "          avg_prec))"
   ]
  },
  {
   "cell_type": "code",
   "execution_count": null,
   "metadata": {
    "collapsed": true
   },
   "outputs": [],
   "source": [
    "# detector.save('working_model')"
   ]
  },
  {
   "cell_type": "code",
   "execution_count": 15,
   "metadata": {
    "collapsed": true
   },
   "outputs": [],
   "source": [
    "incorrect_df = pd.DataFrame(y_frame,columns=['frame','predicted','original'])\n",
    "incorrect_df.to_csv(\"incorrect.csv\",index=False)"
   ]
  },
  {
   "cell_type": "code",
   "execution_count": null,
   "metadata": {
    "collapsed": true
   },
   "outputs": [],
   "source": []
  }
 ],
 "metadata": {
  "anaconda-cloud": {},
  "kernelspec": {
   "display_name": "Python [conda env:vox]",
   "language": "python",
   "name": "conda-env-vox-py"
  },
  "language_info": {
   "codemirror_mode": {
    "name": "ipython",
    "version": 3
   },
   "file_extension": ".py",
   "mimetype": "text/x-python",
   "name": "python",
   "nbconvert_exporter": "python",
   "pygments_lexer": "ipython3",
   "version": "3.6.5"
  }
 },
 "nbformat": 4,
 "nbformat_minor": 2
}
